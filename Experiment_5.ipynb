{
 "cells": [
  {
   "cell_type": "markdown",
   "id": "a2cae670-dc85-4375-98b7-7464c441b188",
   "metadata": {},
   "source": [
    "# EXPERIMENT 5: Thresholds"
   ]
  },
  {
   "cell_type": "code",
   "execution_count": 2,
   "id": "1ebf5775-4a2e-4f8e-a7ba-fc5b28403017",
   "metadata": {},
   "outputs": [],
   "source": [
    "import torch\n",
    "import torchvision.transforms as transforms\n",
    "import torch.optim as optim\n",
    "from torch.utils.data import DataLoader\n",
    "from torchmetrics.detection.mean_ap import MeanAveragePrecision\n",
    "import seaborn as sns\n",
    "import pandas as pd\n",
    "import numpy as np\n",
    "from src.dataset import AfricanWildlifeDataset\n",
    "from src.loss import YoloLoss\n",
    "from src.YOLOv1 import YOLO\n",
    "from src.train import train\n",
    "from src.test import test\n",
    "from src.utils import plot_bbox, get_boxes, convert_dict\n",
    "import time\n",
    "from tqdm import tqdm"
   ]
  },
  {
   "cell_type": "code",
   "execution_count": 3,
   "id": "593dad7c",
   "metadata": {},
   "outputs": [],
   "source": [
    "LEARNING_RATE = 2e-5\n",
    "DEVICE = \"cuda\" if torch.cuda.is_available else \"cpu\"\n",
    "torch.device('cuda')\n",
    "TRAIN_BATCH_SIZE = 20\n",
    "TEST_BATCH_SIZE = 5\n",
    "EPOCHS = 0\n",
    "TRAIN_DIR = 'African_Wildlife/train'\n",
    "TEST_DIR = 'African_Wildlife/test'\n",
    "LABEL_DIR = 'African_Wildlife/annotations'\n",
    "S, B, C = 7, 2, 4"
   ]
  },
  {
   "cell_type": "code",
   "execution_count": 4,
   "id": "9a33f56e-ba40-41ed-9c69-22af23e1e1a7",
   "metadata": {},
   "outputs": [],
   "source": [
    "# load the data\n",
    "transform = transforms.Compose([transforms.Resize((448, 448)), transforms.ToTensor(), transforms.Normalize([0.5200, 0.4957, 0.4068],[0.2391, 0.2283, 0.2303])])\n",
    "\n",
    "train_set = AfricanWildlifeDataset(TRAIN_DIR, TEST_DIR, LABEL_DIR, S=S, B=B, C=C, transform=transform)\n",
    "train_loader = DataLoader(dataset = train_set, batch_size = TRAIN_BATCH_SIZE, shuffle = True)\n",
    "\n",
    "test_set = AfricanWildlifeDataset(TRAIN_DIR, TEST_DIR, LABEL_DIR, S=S, B=B, C=C, istesting=True, transform=transform)\n",
    "test_loader = DataLoader(dataset=test_set, batch_size=TEST_BATCH_SIZE, shuffle= False)"
   ]
  },
  {
   "cell_type": "code",
   "execution_count": 6,
   "id": "54a4fe5f-3069-4e26-8ef9-5cfb1212fe64",
   "metadata": {},
   "outputs": [],
   "source": [
    "# model\n",
    "model = YOLO(input_channels=3, S=S, B=B, C=C, fc=2).to(DEVICE)\n",
    "optimizer = optim.Adam(model.parameters(), lr=LEARNING_RATE)\n",
    "criterion = YoloLoss(S=S, B=B, C=C)"
   ]
  },
  {
   "cell_type": "code",
   "execution_count": 7,
   "id": "3b8d6db1-50dd-43d0-bb83-9d97e5ba6878",
   "metadata": {},
   "outputs": [
    {
     "name": "stdout",
     "output_type": "stream",
     "text": [
      "-> Loading checkpoint\n",
      "Elapsed time:  2.533757209777832\n"
     ]
    }
   ],
   "source": [
    "start_time = time.time()\n",
    "loss_hist = train(train_loader, model, optimizer, criterion, EPOCHS, DEVICE,\n",
    "                  ckpt_filename='experiment_1/paper_config.tar', load_model=True, \n",
    "                  save_epochs=5)\n",
    "end_time = time.time()\n",
    "elapsed_time = end_time - start_time\n",
    "print(\"Elapsed time: \", elapsed_time) "
   ]
  },
  {
   "cell_type": "code",
   "execution_count": 8,
   "id": "a4b2cd33-60a1-42f8-8dc7-b367a7174976",
   "metadata": {},
   "outputs": [
    {
     "data": {
      "image/png": "[encoded data removed]",
      "text/plain": [
       "<Figure size 432x288 with 1 Axes>"
      ]
     },
     "metadata": {
      "needs_background": "light"
     },
     "output_type": "display_data"
    }
   ],
   "source": [
    "import matplotlib.pyplot as plt\n",
    "\n",
    "exp = torch.load('experiment_1/paper_config.tar')\n",
    "loss_history = exp[\"loss_history\"]\n",
    "plt.plot(range(len(loss_history)), loss_history) # trained for 60 epochs\n",
    "plt.xlabel(\"Epoch\")\n",
    "plt.ylabel(\"Loss\")\n",
    "plt.show()"
   ]
  },
  {
   "cell_type": "code",
   "execution_count": 9,
   "id": "7f38b88d-a971-43f1-ae11-fba6ce57c688",
   "metadata": {},
   "outputs": [
    {
     "name": "stderr",
     "output_type": "stream",
     "text": [
      " 11%|█         | 1/9 [00:16<02:08, 16.04s/it]"
     ]
    },
    {
     "name": "stdout",
     "output_type": "stream",
     "text": [
      "tensor(0.1337)\n"
     ]
    },
    {
     "name": "stderr",
     "output_type": "stream",
     "text": [
      " 22%|██▏       | 2/9 [00:23<01:18, 11.21s/it]"
     ]
    },
    {
     "name": "stdout",
     "output_type": "stream",
     "text": [
      "tensor(0.1279)\n"
     ]
    },
    {
     "name": "stderr",
     "output_type": "stream",
     "text": [
      " 33%|███▎      | 3/9 [00:31<00:56,  9.49s/it]"
     ]
    },
    {
     "name": "stdout",
     "output_type": "stream",
     "text": [
      "tensor(0.1090)\n"
     ]
    },
    {
     "name": "stderr",
     "output_type": "stream",
     "text": [
      " 44%|████▍     | 4/9 [00:38<00:42,  8.55s/it]"
     ]
    },
    {
     "name": "stdout",
     "output_type": "stream",
     "text": [
      "tensor(0.0797)\n"
     ]
    },
    {
     "name": "stderr",
     "output_type": "stream",
     "text": [
      " 56%|█████▌    | 5/9 [00:45<00:32,  8.02s/it]"
     ]
    },
    {
     "name": "stdout",
     "output_type": "stream",
     "text": [
      "tensor(0.0524)\n"
     ]
    },
    {
     "name": "stderr",
     "output_type": "stream",
     "text": [
      " 67%|██████▋   | 6/9 [00:52<00:23,  7.68s/it]"
     ]
    },
    {
     "name": "stdout",
     "output_type": "stream",
     "text": [
      "tensor(0.0126)\n"
     ]
    },
    {
     "name": "stderr",
     "output_type": "stream",
     "text": [
      " 78%|███████▊  | 7/9 [00:59<00:14,  7.45s/it]"
     ]
    },
    {
     "name": "stdout",
     "output_type": "stream",
     "text": [
      "tensor(0.)\n"
     ]
    },
    {
     "name": "stderr",
     "output_type": "stream",
     "text": [
      " 89%|████████▉ | 8/9 [01:06<00:07,  7.35s/it]"
     ]
    },
    {
     "name": "stdout",
     "output_type": "stream",
     "text": [
      "tensor(0.)\n"
     ]
    },
    {
     "name": "stderr",
     "output_type": "stream",
     "text": [
      "100%|██████████| 9/9 [01:13<00:00,  8.20s/it]"
     ]
    },
    {
     "name": "stdout",
     "output_type": "stream",
     "text": [
      "tensor(0.)\n"
     ]
    },
    {
     "name": "stderr",
     "output_type": "stream",
     "text": [
      "\n"
     ]
    }
   ],
   "source": [
    "thresholds = [round(x.item(), 2) for x in torch.arange(0.5, 0.95, 0.05)]\n",
    "aps = []\n",
    "\n",
    "loop = tqdm(thresholds, leave=True)\n",
    "for t in loop:\n",
    "    # testing \n",
    "    y_pred, y_true = test(test_loader, model, DEVICE, filter_params=[t, True])\n",
    "    # non-max-suppression\n",
    "    pred_boxes, true_boxes = get_boxes(y_pred, y_true, iou_threshold=0.5)\n",
    "\n",
    "    pred = {idx: [] for idx in range(len(test_loader) * TEST_BATCH_SIZE)}\n",
    "    for box in pred_boxes:\n",
    "        pred[box[0]].append(box[1:])\n",
    "    # map\n",
    "    gt = {idx: [] for idx in range(len(test_loader) * TEST_BATCH_SIZE)}\n",
    "    for box in true_boxes:\n",
    "        gt[box[0]].append(box[1:])\n",
    "\n",
    "    predictions = convert_dict(pred)\n",
    "    target = convert_dict(gt, with_score=False)\n",
    "\n",
    "    th = [round(x.item(), 2) for x in torch.arange(0.5, 1, 0.05)]\n",
    "    m_ap = MeanAveragePrecision(box_format='xywh', iou_type=\"bbox\", iou_thresholds=th)\n",
    "    m_ap.update(predictions, target)\n",
    "    ap = m_ap.compute()\n",
    "    aps.append(ap['map'])"
   ]
  },
  {
   "cell_type": "code",
   "execution_count": 10,
   "id": "9449e409-8023-40e7-b05e-5ab3ec71a8b0",
   "metadata": {},
   "outputs": [
    {
     "data": {
      "text/plain": [
       "Text(0.5, 1.0, 'confidence score thresholds vs mAP')"
      ]
     },
     "execution_count": 10,
     "metadata": {},
     "output_type": "execute_result"
    },
    {
     "data": {
      "image/png": "[encoded data removed]",
      "text/plain": [
       "<Figure size 720x576 with 1 Axes>"
      ]
     },
     "metadata": {
      "needs_background": "light"
     },
     "output_type": "display_data"
    }
   ],
   "source": [
    "fig, ax = plt.subplots(1, 1, figsize=(10, 8))\n",
    "df = pd.DataFrame(data=np.array([thresholds, aps]).T, columns=['confidence score threshold', 'mAP'])\n",
    "sns.barplot(data=df, x='confidence score threshold', y='mAP')\n",
    "ax.set_title('confidence score thresholds vs mAP')"
   ]
  },
  {
   "cell_type": "code",
   "execution_count": 11,
   "id": "06baa20c-0b4b-49d0-a823-d5ad6ef1a3b0",
   "metadata": {},
   "outputs": [
    {
     "name": "stderr",
     "output_type": "stream",
     "text": [
      "100%|██████████| 17/17 [03:41<00:00, 13.01s/it]\n"
     ]
    }
   ],
   "source": [
    "thresholds = [round(x.item(), 2) for x in torch.arange(0.1, 0.95, 0.05)]\n",
    "aps = []\n",
    "\n",
    "loop = tqdm(thresholds, leave=True)\n",
    "for t in loop:\n",
    "    # testing \n",
    "    y_pred, y_true = test(test_loader, model, DEVICE, filter_params=[0.6, True])\n",
    "    # non-max-suppression\n",
    "    pred_boxes, true_boxes = get_boxes(y_pred, y_true, iou_threshold=t)\n",
    "\n",
    "    pred = {idx: [] for idx in range(len(test_loader) * TEST_BATCH_SIZE)}\n",
    "    for box in pred_boxes:\n",
    "        pred[box[0]].append(box[1:])\n",
    "    # map\n",
    "    gt = {idx: [] for idx in range(len(test_loader) * TEST_BATCH_SIZE)}\n",
    "    for box in true_boxes:\n",
    "        gt[box[0]].append(box[1:])\n",
    "\n",
    "    predictions = convert_dict(pred)\n",
    "    target = convert_dict(gt, with_score=False)\n",
    "\n",
    "    th = [round(x.item(), 2) for x in torch.arange(0.5, 1, 0.05)]\n",
    "    m_ap = MeanAveragePrecision(box_format='xywh', iou_type=\"bbox\", iou_thresholds=th)\n",
    "    m_ap.update(predictions, target)\n",
    "    ap = m_ap.compute()\n",
    "    aps.append(ap['map'])"
   ]
  },
  {
   "cell_type": "code",
   "execution_count": 12,
   "id": "acd39730-6176-4b07-8c81-d0e46c221065",
   "metadata": {},
   "outputs": [
    {
     "data": {
      "text/plain": [
       "Text(0.5, 1.0, 'Non-max suppression IoU threshold vs mAP')"
      ]
     },
     "execution_count": 12,
     "metadata": {},
     "output_type": "execute_result"
    },
    {
     "data": {
      "image/png": "[encoded data removed]",
      "text/plain": [
       "<Figure size 720x576 with 1 Axes>"
      ]
     },
     "metadata": {
      "needs_background": "light"
     },
     "output_type": "display_data"
    }
   ],
   "source": [
    "fig, ax = plt.subplots(1, 1, figsize=(10, 8))\n",
    "df = pd.DataFrame(data=np.array([thresholds, aps]).T, columns=['NMS IoU threshold', 'mAP'])\n",
    "sns.barplot(data=df, x='NMS IoU threshold', y='mAP')\n",
    "ax.set_title('Non-max suppression IoU threshold vs mAP')"
   ]
  },
  {
   "cell_type": "code",
   "execution_count": null,
   "id": "77a3ec40-9cc0-4e95-b183-a65a104fd474",
   "metadata": {},
   "outputs": [],
   "source": [
    "iou_thresholds = [round(x.item(), 2) for x in torch.arange(0.1, 0.95, 0.05)]\n",
    "thresholds = [round(x.item(), 2) for x in torch.arange(0.5, 0.95, 0.05)]\n",
    "aps = {}\n",
    "\n",
    "loop = tqdm(iou_thresholds, leave=True)\n",
    "for t in loop:\n",
    "    for iou in iou_thresholds:\n",
    "        # testing \n",
    "        y_pred, y_true = test(test_loader, model, DEVICE, filter_params=[t, True])\n",
    "        # non-max-suppression\n",
    "        pred_boxes, true_boxes = get_boxes(y_pred, y_true, iou_threshold=iou)\n",
    "\n",
    "        pred = {idx: [] for idx in range(len(test_loader) * TEST_BATCH_SIZE)}\n",
    "        for box in pred_boxes:\n",
    "            pred[box[0]].append(box[1:])\n",
    "        # map\n",
    "        gt = {idx: [] for idx in range(len(test_loader) * TEST_BATCH_SIZE)}\n",
    "        for box in true_boxes:\n",
    "            gt[box[0]].append(box[1:])\n",
    "\n",
    "        predictions = convert_dict(pred)\n",
    "        target = convert_dict(gt, with_score=False)\n",
    "\n",
    "        th = [round(x.item(), 2) for x in torch.arange(0.5, 1, 0.05)]\n",
    "        m_ap = MeanAveragePrecision(box_format='xywh', iou_type=\"bbox\", iou_thresholds=th)\n",
    "        m_ap.update(predictions, target)\n",
    "        ap = m_ap.compute()\n",
    "        aps[t, iou] = ap['map']"
   ]
  },
  {
   "cell_type": "code",
   "execution_count": null,
   "id": "35d5f558-3308-4d46-a0e4-2667511a424c",
   "metadata": {},
   "outputs": [],
   "source": [
    "np.hstack([np.array([str(key) for key in aps.keys()]), np.array(aps.values())]).shape"
   ]
  },
  {
   "cell_type": "code",
   "execution_count": null,
   "id": "eef60be1-a739-48b3-9d13-41028f259b68",
   "metadata": {},
   "outputs": [],
   "source": [
    "fig, ax = plt.subplots(1, 1, figsize=(10, 8))\n",
    "df = pd.DataFrame(data=np.array([np.array([str(key) for key in aps.keys()]), np.array(aps.values())]), columns=['thresholds', 'mAP'])\n",
    "sns.barplot(data=df, x='threshold', y='mAP')\n",
    "ax.set_title('thresholds vs mAP')"
   ]
  },
  {
   "cell_type": "code",
   "execution_count": null,
   "id": "338402a6-92db-4e8d-89d5-1ea093d5a576",
   "metadata": {},
   "outputs": [],
   "source": [
    "keys = sorted(aps, key=lambda x: aps[x])\n",
    "values = [aps[x] for x in keys]\n",
    "fig, ax = plt.subplots(1, 1, figsize=(18, 10))\n",
    "ax.scatter([str(x) for x in keys], values)\n",
    "ax.set_yticks([float(x) for x in values])"
   ]
  },
  {
   "cell_type": "code",
   "execution_count": null,
   "id": "51788a07-92f5-4f14-a938-6f3e55bc3c75",
   "metadata": {},
   "outputs": [],
   "source": [
    "keys[-9:]\n"
   ]
  },
  {
   "cell_type": "code",
   "execution_count": null,
   "id": "0a7ac440-7a37-40c1-b274-8da40ed26256",
   "metadata": {},
   "outputs": [],
   "source": [
    "thresholds = [round(x.item(), 2) for x in torch.arange(0.5, 0.95, 0.05)]\n",
    "aps = []\n",
    "\n",
    "loop = tqdm(thresholds, leave=True)\n",
    "for t in loop:\n",
    "    # testing \n",
    "    y_pred, y_true = test(test_loader, model, DEVICE, filter_params=[t, True])\n",
    "    # non-max-suppression\n",
    "    pred_boxes, true_boxes = get_boxes(y_pred, y_true, iou_threshold=0.5)\n",
    "\n",
    "    pred = {idx: [] for idx in range(len(test_loader) * TEST_BATCH_SIZE)}\n",
    "    for box in pred_boxes:\n",
    "        pred[box[0]].append(box[1:])\n",
    "    # map\n",
    "    gt = {idx: [] for idx in range(len(test_loader) * TEST_BATCH_SIZE)}\n",
    "    for box in true_boxes:\n",
    "        gt[box[0]].append(box[1:])\n",
    "\n",
    "    predictions = convert_dict(pred)\n",
    "    target = convert_dict(gt, with_score=False)\n",
    "\n",
    "    th = [round(x.item(), 2) for x in torch.arange(0.5, 1, 0.05)]\n",
    "    m_ap = MeanAveragePrecision(box_format='xywh', iou_type=\"bbox\", iou_thresholds=th)\n",
    "    m_ap.update(predictions, target)\n",
    "    ap = m_ap.compute()\n",
    "    print(ap['map'])\n",
    "    aps.append(ap['map'])"
   ]
  },
  {
   "cell_type": "code",
   "execution_count": null,
   "id": "f9dfd640-2e37-42ba-bb91-0536226983dd",
   "metadata": {},
   "outputs": [],
   "source": [
    "# testing \n",
    "y_pred, y_true = test(test_loader, model, DEVICE, filter_params=[0.60, True])\n",
    "# non-max-suppression\n",
    "pred_boxes, true_boxes = get_boxes(y_pred, y_true, iou_threshold=0.5)\n",
    "\n",
    "pred = {idx: [] for idx in range(len(test_loader) * TEST_BATCH_SIZE)}\n",
    "for box in pred_boxes:\n",
    "    pred[box[0]].append(box[1:])"
   ]
  },
  {
   "cell_type": "code",
   "execution_count": null,
   "id": "f8fd4c22-cbc2-4532-b64c-df094a1eb635",
   "metadata": {},
   "outputs": [],
   "source": [
    "# plot predictions\n",
    "fig, ax = plt.subplots(5, 10, figsize=(25, 10))\n",
    "for idx in range(50):\n",
    "    bbx = pred[idx]\n",
    "    plot_bbox(idx, test_set, bbx, ax=ax.flatten()[idx])"
   ]
  },
  {
   "cell_type": "code",
   "execution_count": null,
   "id": "2cd08b30-6a3c-4661-a79b-c5ad84392acf",
   "metadata": {},
   "outputs": [],
   "source": [
    "# map\n",
    "gt = {idx: [] for idx in range(len(test_loader) * TEST_BATCH_SIZE)}\n",
    "for box in true_boxes:\n",
    "    gt[box[0]].append(box[1:])\n",
    "    \n",
    "predictions = convert_dict(pred)\n",
    "target = convert_dict(gt, with_score=False)\n",
    "\n",
    "th = torch.arange(0.5, 1, 0.05).tolist()\n",
    "m_ap = MeanAveragePrecision(box_format='xywh', iou_type=\"bbox\", iou_thresholds=th)\n",
    "m_ap.update(predictions, target)\n",
    "ap1 = m_ap.compute()"
   ]
  },
  {
   "cell_type": "code",
   "execution_count": null,
   "id": "620aa4aa-bc3e-4def-8da1-2dd569fdd7b4",
   "metadata": {},
   "outputs": [],
   "source": [
    "ap1"
   ]
  },
  {
   "cell_type": "code",
   "execution_count": null,
   "id": "ebdd4087-e674-400e-b885-c522ee2496a9",
   "metadata": {},
   "outputs": [],
   "source": []
  }
 ],
 "metadata": {
  "kernelspec": {
   "display_name": "Python 3 (ipykernel)",
   "language": "python",
   "name": "python3"
  },
  "language_info": {
   "codemirror_mode": {
    "name": "ipython",
    "version": 3
   },
   "file_extension": ".py",
   "mimetype": "text/x-python",
   "name": "python",
   "nbconvert_exporter": "python",
   "pygments_lexer": "ipython3",
   "version": "3.9.5"
  }
 },
 "nbformat": 4,
 "nbformat_minor": 5
}
