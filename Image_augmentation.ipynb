{
 "cells": [
  {
   "cell_type": "code",
   "execution_count": 1,
   "id": "22798e95-d4ba-47e7-a199-8891440717ab",
   "metadata": {},
   "outputs": [],
   "source": [
    "import albumentations as A\n",
    "import matplotlib.pyplot as plt\n",
    "import torch\n",
    "import cv2\n",
    "from matplotlib.patches import Rectangle\n",
    "import os\n",
    "import PIL \n",
    "import numpy as np\n",
    "# rm -rf `find -type d -name .ipynb_checkpoints`"
   ]
  },
  {
   "cell_type": "code",
   "execution_count": null,
   "id": "8317fa44-c29c-44a3-a720-9eecb1494c55",
   "metadata": {},
   "outputs": [],
   "source": [
    "filename = "
   ]
  },
  {
   "cell_type": "code",
   "execution_count": 2,
   "id": "9adb826c-21c4-4390-b402-a25f79e81ff5",
   "metadata": {},
   "outputs": [
    {
     "data": {
      "text/plain": [
       "{'rhino': 376, 'zebra': 376, 'buffalo': 376, 'elephant': 376}"
      ]
     },
     "execution_count": 2,
     "metadata": {},
     "output_type": "execute_result"
    }
   ],
   "source": [
    "classes = {c: len(os.listdir(f'archive/{c}/'))//2 for c in os.listdir('archive/')}\n",
    "classes"
   ]
  },
  {
   "cell_type": "code",
   "execution_count": 3,
   "id": "18c1e04f-5fe8-4bef-aae4-f1a2459af85c",
   "metadata": {},
   "outputs": [],
   "source": [
    "def generate_transform(width, height): \n",
    "    h = int(height * np.random.uniform(0.5, 1))\n",
    "    w = int(width * np.random.uniform(0.5, 1))\n",
    "\n",
    "    return A.Compose([\n",
    "        A.RandomCrop(width=w, height=h),\n",
    "        A.RandomBrightnessContrast(p=0.2),\n",
    "        A.OneOf([\n",
    "                              A.HorizontalFlip(p=0.5),\n",
    "                              A.MotionBlur(p=0.5),            \n",
    "        ], p=1),\n",
    "        A.OneOf([\n",
    "                              A.OpticalDistortion(p=0.5),\n",
    "                              A.GaussNoise(p=0.5)                 \n",
    "        ], p=1),\n",
    "\n",
    "    ],  bbox_params=A.BboxParams(format='yolo', min_area=1024, min_visibility=0.1, label_fields=['class_labels']))"
   ]
  },
  {
   "cell_type": "code",
   "execution_count": 13,
   "id": "7f772695-ab3d-4d75-9fd1-fec4174cd583",
   "metadata": {},
   "outputs": [
    {
     "name": "stdout",
     "output_type": "stream",
     "text": [
      "archive/rhino/153.jpg\n",
      "saving: archive/rhino/476.jpg\n",
      "archive/zebra/153.jpg\n",
      "saving: archive/zebra/376.jpg\n",
      "archive/buffalo/153.jpg\n",
      "saving: archive/buffalo/376.jpg\n",
      "archive/elephant/153.jpg\n",
      "saving: archive/elephant/376.jpg\n"
     ]
    }
   ],
   "source": [
    "for idx, c in enumerate(classes.keys()): \n",
    "    path = f'{filename}/train/'\n",
    "    fnames = os.listdir(path)\n",
    "    fnum = set(f.split('.')[0] for f in fnames) # number of image\n",
    "    num_img = len(fnum) \n",
    "    for i, f in enumerate(fnum): \n",
    "        image_path = f\"{path}{f}.jpg\"\n",
    "        label_path = f\"{path}{f}.txt\"\n",
    "        print(image_path)\n",
    "        # prepare images for transform\n",
    "        image = cv2.imread(image_path)\n",
    "        image = cv2.cvtColor(image, cv2.COLOR_BGR2RGB)\n",
    "        h, w = image.shape[:-1]\n",
    "        \n",
    "        # prepare bboxes for transform\n",
    "        bounding_boxes = []\n",
    "        with open(label_path) as f: # open the image \n",
    "            for label in f.readlines():\n",
    "                class_label, x, y, width, height = [\n",
    "                    float(x) if float(x) != int(float(x)) else int(x)\n",
    "                    for x in label.replace(\"\\n\", \"\").split()\n",
    "                ]\n",
    "\n",
    "                bounding_boxes.append([class_label, x, y, width, height])\n",
    "              \n",
    "        # separate bboxes from class labels for transform\n",
    "        bboxes = []\n",
    "        class_labels = []\n",
    "        for idx in range(len(bounding_boxes)): \n",
    "            bboxes.append(bounding_boxes[idx][1:])\n",
    "            class_labels.append(bounding_boxes[idx][:1])\n",
    "        \n",
    "        # apply transforms\n",
    "        transform = generate_transform(w, h)\n",
    "        transformed = transform(image=image, bboxes=bboxes, class_labels=class_labels)\n",
    "        transformed_image = transformed['image']\n",
    "        transformed_bboxes = transformed['bboxes']\n",
    "        transformed_class_labels = transformed['class_labels']\n",
    "        \n",
    "        # join class and bboxes again \n",
    "        transformed_labels = []\n",
    "        for idx, b in enumerate(transformed_bboxes): \n",
    "            box = list(b)\n",
    "            box.insert(0,transformed_class_labels[idx][0])\n",
    "            box = ''.join([str(x) + ' ' for x in box])\n",
    "            transformed_labels.append(box)\n",
    "            transformed_labels.append('\\n')\n",
    "        transformed_labels = ''.join(transformed_labels)\n",
    "        \n",
    "        name = str(int(i)+num_img)\n",
    "        new_image = PIL.Image.fromarray(transformed_image)\n",
    "        new_image.save(f'{path}{name}.jpg')\n",
    "        print(f'saving: {path}{name}.jpg')\n",
    "        \n",
    "        with open(f'{path}{name}.txt', \"w\") as output:\n",
    "            output.write(str(transformed_labels))\n",
    "\n",
    "        break\n"
   ]
  },
  {
   "cell_type": "code",
   "execution_count": null,
   "id": "16ab3e90-f6e9-4056-9967-95199af1ebe5",
   "metadata": {},
   "outputs": [],
   "source": []
  }
 ],
 "metadata": {
  "kernelspec": {
   "display_name": "Python 3 (ipykernel)",
   "language": "python",
   "name": "python3"
  },
  "language_info": {
   "codemirror_mode": {
    "name": "ipython",
    "version": 3
   },
   "file_extension": ".py",
   "mimetype": "text/x-python",
   "name": "python",
   "nbconvert_exporter": "python",
   "pygments_lexer": "ipython3",
   "version": "3.9.5"
  }
 },
 "nbformat": 4,
 "nbformat_minor": 5
}
