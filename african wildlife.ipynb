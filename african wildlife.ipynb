{
 "cells": [
  {
   "cell_type": "code",
   "execution_count": 1,
   "id": "f605fe45",
   "metadata": {},
   "outputs": [],
   "source": [
    "import os\n",
    "import numpy as np"
   ]
  },
  {
   "cell_type": "code",
   "execution_count": 2,
   "id": "234ff9c5",
   "metadata": {},
   "outputs": [
    {
     "data": {
      "text/plain": [
       "{'buffalo': 376, 'elephant': 376, 'rhino': 376, 'zebra': 376}"
      ]
     },
     "execution_count": 2,
     "metadata": {},
     "output_type": "execute_result"
    }
   ],
   "source": [
    "classes = {c: len(os.listdir(f'archive/{c}/'))//2 for c in os.listdir('archive/')}\n",
    "classes"
   ]
  },
  {
   "cell_type": "code",
   "execution_count": 3,
   "id": "9b06d9d1",
   "metadata": {},
   "outputs": [],
   "source": [
    "old_path = 'archive/'\n",
    "new_path = \"African Wildlife/\"\n",
    "train_size = int(0.8 * 376)\n",
    "test_size = 376 - train_size"
   ]
  },
  {
   "cell_type": "code",
   "execution_count": 9,
   "id": "c2f99cb2",
   "metadata": {},
   "outputs": [],
   "source": [
    "for idx, c in enumerate(classes.keys()):\n",
    "    fnames = os.listdir(f'archive/{c}/')\n",
    "    fnum = set(f.split('.')[0] for f in fnames)\n",
    "    test_split = np.random.choice([x for x in fnum], size=test_size, replace=False)\n",
    "    for i,f in enumerate(fnum):\n",
    "        name = str(i + 376 * idx)\n",
    "        if f in test_split:\n",
    "            os.rename(f'{old_path}{c}/{f}.jpg', f'{new_path}test/{name}.jpg')\n",
    "        else:\n",
    "            os.rename(f'{old_path}{c}/{f}.jpg', f'{new_path}train/{name}.jpg')\n",
    "        os.rename(f'{old_path}{c}/{f}.txt', f'{new_path}annotations/{name}.txt')"
   ]
  },
  {
   "cell_type": "code",
   "execution_count": 12,
   "id": "c6b80884",
   "metadata": {},
   "outputs": [
    {
     "data": {
      "text/plain": [
       "76.0"
      ]
     },
     "execution_count": 12,
     "metadata": {},
     "output_type": "execute_result"
    }
   ],
   "source": [
    "len(os.listdir(f'{new_path}test/')) / 4"
   ]
  },
  {
   "cell_type": "code",
   "execution_count": null,
   "id": "97a72626",
   "metadata": {},
   "outputs": [],
   "source": []
  }
 ],
 "metadata": {
  "kernelspec": {
   "display_name": "Python 3 (ipykernel)",
   "language": "python",
   "name": "python3"
  },
  "language_info": {
   "codemirror_mode": {
    "name": "ipython",
    "version": 3
   },
   "file_extension": ".py",
   "mimetype": "text/x-python",
   "name": "python",
   "nbconvert_exporter": "python",
   "pygments_lexer": "ipython3",
   "version": "3.9.12"
  }
 },
 "nbformat": 4,
 "nbformat_minor": 5
}
